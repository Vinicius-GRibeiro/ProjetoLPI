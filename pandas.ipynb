{
  "metadata": {
    "kernelspec": {
      "name": "python",
      "display_name": "Python (Pyodide)",
      "language": "python"
    },
    "language_info": {
      "codemirror_mode": {
        "name": "python",
        "version": 3
      },
      "file_extension": ".py",
      "mimetype": "text/x-python",
      "name": "python",
      "nbconvert_exporter": "python",
      "pygments_lexer": "ipython3",
      "version": "3.8"
    }
  },
  "nbformat_minor": 5,
  "nbformat": 4,
  "cells": [
    {
      "cell_type": "code",
      "source": "import pandas as pd\n\n#pd.Series([LISTA DE VALORES], [LISTA DE ÍNDICES], nome)\n\nlista = ('João', 'Carlos', 'Henrique', 'Davi', 'Joana')\ns1 = pd.Series(lista, name = 'nomes')\n\n",
      "metadata": {
        "trusted": true
      },
      "execution_count": 3,
      "outputs": [
        {
          "name": "stdout",
          "text": "0        João\n1      Carlos\n2    Henrique\n3        Davi\n4       Joana\nName: nomes, dtype: object\n",
          "output_type": "stream"
        }
      ],
      "id": "85463513-a970-49a2-8658-ccc3953c43b7"
    },
    {
      "cell_type": "code",
      "source": "nomes = ('Ana', 'Carlos', 'Henrique', 'Davi', 'Joana')\ns1 = pd.Series(lista, ['A', 'C', 'H', 'D', 'J'])\n\n",
      "metadata": {
        "trusted": true
      },
      "execution_count": 5,
      "outputs": [],
      "id": "c5557a9e-7720-4a88-8d1a-f1a2ec7231ae"
    },
    {
      "cell_type": "code",
      "source": "s1 = pd.Series(4, range(10))\n",
      "metadata": {
        "trusted": true
      },
      "execution_count": 6,
      "outputs": [],
      "id": "ec6b695e-aeff-4998-81c3-ad9997a5f99f"
    },
    {
      "cell_type": "code",
      "source": "numeros = pd.Series([11, 27, 10, 77, 83, 104, 2.4])\nprint('Média:',numeros.mean())\nprint('Máximo:',numeros.max())\nprint('Mínimo',numeros.min())\nprint('Desvio padrão:',numeros.std())\n\nprint(f'Descrição\\n',numeros.describe())\n\n",
      "metadata": {
        "trusted": true
      },
      "execution_count": 11,
      "outputs": [
        {
          "name": "stdout",
          "text": "Média: 44.91428571428571\nMáximo: 104.0\nMínimo 2.4\nDesvio padrão: 41.7706207986518\nDescrição\n count      7.000000\nmean      44.914286\nstd       41.770621\nmin        2.400000\n25%       10.500000\n50%       27.000000\n75%       80.000000\nmax      104.000000\ndtype: float64\n",
          "output_type": "stream"
        }
      ],
      "id": "1482d50b-8118-4984-8907-c923c60aac62"
    },
    {
      "cell_type": "code",
      "source": "cadastro = {\n    'Nome': ['Joana', 'Patricia', 'Paulo'],\n    'Idade': [35, 21, 44],\n    'Estado': ['SP', 'SC', 'PE']\n}\n\ncadastro_df = pd.DataFrame(cadastro)\nprint(cadastro_df)\n\n#display(cadastro_df)",
      "metadata": {
        "trusted": true
      },
      "execution_count": 15,
      "outputs": [
        {
          "output_type": "display_data",
          "data": {
            "text/plain": "       Nome  Idade Estado\n0     Joana     35     SP\n1  Patricia     21     SC\n2     Paulo     44     PE",
            "text/html": "<div>\n<style scoped>\n    .dataframe tbody tr th:only-of-type {\n        vertical-align: middle;\n    }\n\n    .dataframe tbody tr th {\n        vertical-align: top;\n    }\n\n    .dataframe thead th {\n        text-align: right;\n    }\n</style>\n<table border=\"1\" class=\"dataframe\">\n  <thead>\n    <tr style=\"text-align: right;\">\n      <th></th>\n      <th>Nome</th>\n      <th>Idade</th>\n      <th>Estado</th>\n    </tr>\n  </thead>\n  <tbody>\n    <tr>\n      <th>0</th>\n      <td>Joana</td>\n      <td>35</td>\n      <td>SP</td>\n    </tr>\n    <tr>\n      <th>1</th>\n      <td>Patricia</td>\n      <td>21</td>\n      <td>SC</td>\n    </tr>\n    <tr>\n      <th>2</th>\n      <td>Paulo</td>\n      <td>44</td>\n      <td>PE</td>\n    </tr>\n  </tbody>\n</table>\n</div>"
          },
          "metadata": {}
        }
      ],
      "id": "ce3f86b4-6654-49aa-8dde-d099f49f51e7"
    },
    {
      "cell_type": "code",
      "source": "",
      "metadata": {},
      "execution_count": null,
      "outputs": [],
      "id": "3b8cf1ae-2c20-4967-9c30-e9353cf55670"
    }
  ]
}